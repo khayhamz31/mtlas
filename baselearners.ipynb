{
 "cells": [
  {
   "cell_type": "code",
   "execution_count": null,
   "metadata": {},
   "outputs": [],
   "source": [
    "from sklearn.linear_model import LogisticRegression\n",
    "\n",
    "# Initialize and train model\n",
    "log_reg = LogisticRegression()\n",
    "# log_reg.fit(X_train, y_train)\n",
    "\n",
    "# # Predict and evaluate\n",
    "# y_pred = log_reg.predict(X_test)\n",
    "# log_reg_acc = accuracy_score(y_test, y_pred)\n",
    "# print(f\"Logistic Regression Accuracy: {log_reg_acc:.4f}\")\n"
   ]
  },
  {
   "cell_type": "code",
   "execution_count": null,
   "metadata": {},
   "outputs": [],
   "source": [
    "from sklearn.tree import DecisionTreeClassifier\n",
    "\n",
    "# Initialize and train model\n",
    "dt = DecisionTreeClassifier()\n",
    "# dt.fit(X_train, y_train)\n",
    "\n",
    "# # Predict and evaluate\n",
    "# y_pred = dt.predict(X_test)\n",
    "# dt_acc = accuracy_score(y_test, y_pred)\n",
    "# print(f\"Decision Tree Accuracy: {dt_acc:.4f}\")\n"
   ]
  },
  {
   "cell_type": "code",
   "execution_count": null,
   "metadata": {},
   "outputs": [],
   "source": [
    "from sklearn.ensemble import RandomForestClassifier\n",
    "\n",
    "# Initialize and train model\n",
    "rf = RandomForestClassifier(n_estimators=100)\n",
    "# rf.fit(X_train, y_train)\n",
    "\n",
    "# # Predict and evaluate\n",
    "# y_pred = rf.predict(X_test)\n",
    "# rf_acc = accuracy_score(y_test, y_pred)\n",
    "# print(f\"Random Forest Accuracy: {rf_acc:.4f}\")"
   ]
  },
  {
   "cell_type": "code",
   "execution_count": null,
   "metadata": {},
   "outputs": [],
   "source": [
    "from xgboost import XGBClassifier\n",
    "\n",
    "# Initialize and train model\n",
    "xgb = XGBClassifier(use_label_encoder=False, eval_metric=\"logloss\")\n",
    "# xgb.fit(X_train, y_train)\n",
    "\n",
    "# # Predict and evaluate\n",
    "# y_pred = xgb.predict(X_test)\n",
    "# xgb_acc = accuracy_score(y_test, y_pred)\n",
    "# print(f\"XGBoost Accuracy: {xgb_acc:.4f}\")\n"
   ]
  },
  {
   "cell_type": "code",
   "execution_count": null,
   "metadata": {},
   "outputs": [],
   "source": [
    "from sklearn.svm import SVC\n",
    "\n",
    "# Initialize and train model\n",
    "svm = SVC(kernel='rbf', probability=True)\n",
    "# svm.fit(X_train, y_train)\n",
    "\n",
    "# # Predict and evaluate\n",
    "# y_pred = svm.predict(X_test)\n",
    "# svm_acc = accuracy_score(y_test, y_pred)\n",
    "# print(f\"SVM Accuracy: {svm_acc:.4f}\")\n"
   ]
  },
  {
   "cell_type": "code",
   "execution_count": null,
   "metadata": {},
   "outputs": [],
   "source": [
    "from sklearn.neural_network import MLPClassifier\n",
    "\n",
    "# Initialize and train model\n",
    "mlp = MLPClassifier(hidden_layer_sizes=(100,), max_iter=500)\n",
    "# mlp.fit(X_train, y_train)\n",
    "\n",
    "# # Predict and evaluate\n",
    "# y_pred = mlp.predict(X_test)\n",
    "# mlp_acc = accuracy_score(y_test, y_pred)\n",
    "# print(f\"MLP Accuracy: {mlp_acc:.4f}\")\n"
   ]
  },
  {
   "cell_type": "code",
   "execution_count": null,
   "metadata": {},
   "outputs": [],
   "source": [
    "from sklearn.naive_bayes import GaussianNB\n",
    "\n",
    "# Initialize and train model\n",
    "nb = GaussianNB()\n",
    "# nb.fit(X_train, y_train)\n",
    "\n",
    "# # Predict and evaluate\n",
    "# y_pred = nb.predict(X_test)\n",
    "# nb_acc = accuracy_score(y_test, y_pred)\n",
    "# print(f\"Naïve Bayes Accuracy: {nb_acc:.4f}\")\n"
   ]
  },
  {
   "cell_type": "code",
   "execution_count": null,
   "metadata": {},
   "outputs": [],
   "source": [
    "import wittgenstein as lw\n",
    "\n",
    "# Initialize and train model\n",
    "ripper = lw.RIPPER()\n",
    "\n",
    "\n",
    "# ripper.fit(X_train, y_train)\n",
    "\n",
    "# # Predict and evaluate\n",
    "# y_pred = ripper.predict(X_test)\n",
    "# ripper_acc = accuracy_score(y_test, y_pred)\n",
    "# print(f\"Decision Rules (RIPPER) Accuracy: {ripper_acc:.4f}\")"
   ]
  }
 ],
 "metadata": {
  "language_info": {
   "name": "python"
  },
  "orig_nbformat": 4
 },
 "nbformat": 4,
 "nbformat_minor": 2
}
