{
 "cells": [
  {
   "cell_type": "code",
   "execution_count": null,
   "metadata": {},
   "outputs": [],
   "source": [
    "from sklearn.ensemble import RandomForestRegressor\n",
    "from sklearn.datasets import make_regression\n",
    "from sklearn.model_selection import train_test_split\n",
    "from sklearn.metrics import mean_squared_error\n",
    "import numpy as np\n",
    "\n",
    "rf_model = RandomForestRegressor(\n",
    "    n_estimators=100,    # Number of trees\n",
    "    max_depth=None,      # Maximum depth of trees\n",
    "    min_samples_split=2, # Minimum samples required to split\n",
    "    random_state=42\n",
    ")\n",
    "\n",
    "# Train the model\n",
    "# rf_model.fit(X_train, y_train)\n",
    "\n",
    "# # Make predictions\n",
    "# rf_predictions = rf_model.predict(X_test)"
   ]
  },
  {
   "cell_type": "code",
   "execution_count": null,
   "metadata": {},
   "outputs": [],
   "source": [
    "import xgboost as xgb\n",
    "from sklearn.datasets import make_regression\n",
    "from sklearn.model_selection import train_test_split\n",
    "from sklearn.metrics import mean_squared_error\n",
    "import numpy as np\n",
    "\n",
    "\n",
    "xgb_model = xgb.XGBRegressor(\n",
    "    n_estimators=100,    # Number of boosting rounds\n",
    "    learning_rate=0.1,   # Step size shrinkage\n",
    "    max_depth=3,         # Maximum depth of trees\n",
    "    subsample=0.8,       # Fraction of samples used for fitting trees\n",
    "    colsample_bytree=0.8,# Fraction of features used for fitting trees\n",
    "    random_state=42\n",
    ")\n",
    "\n",
    "# # Train the model\n",
    "# xgb_model.fit(X_train, y_train)\n",
    "\n",
    "# # Make predictions\n",
    "# xgb_predictions = xgb_model.predict(X_test)\n"
   ]
  }
 ],
 "metadata": {
  "language_info": {
   "name": "python"
  },
  "orig_nbformat": 4
 },
 "nbformat": 4,
 "nbformat_minor": 2
}
